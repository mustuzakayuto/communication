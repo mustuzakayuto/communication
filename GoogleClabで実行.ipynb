{
  "nbformat": 4,
  "nbformat_minor": 0,
  "metadata": {
    "colab": {
      "provenance": [],
      "authorship_tag": "ABX9TyNE+O1+IPQD4b7/O64QiWzG",
      "include_colab_link": true
    },
    "kernelspec": {
      "name": "python3",
      "display_name": "Python 3"
    },
    "language_info": {
      "name": "python"
    }
  },
  "cells": [
    {
      "cell_type": "markdown",
      "metadata": {
        "id": "view-in-github",
        "colab_type": "text"
      },
      "source": [
        "<a href=\"https://colab.research.google.com/github/mustuzakayuto/communication/blob/communication/GoogleClab%E3%81%A7%E5%AE%9F%E8%A1%8C.ipynb\" target=\"_parent\"><img src=\"https://colab.research.google.com/assets/colab-badge.svg\" alt=\"Open In Colab\"/></a>"
      ]
    },
    {
      "cell_type": "code",
      "source": [
        "#@title やり方\n",
        "#@markdown ### プログラム起動設定\n",
        "#@markdown ### ngrokサイトで設定\n",
        "#@markdown ##### https://www.mgo-tec.com/blog-entry-ngrok-install.html\n",
        "#@markdown ### access_tokenとhostnameの設定\n",
        "port = 5000 #@param {type:\"integer\"}\n",
        "access_token=\"\" #@param {type:\"string\"}\n",
        "hostname=\"\" #@param {type:\"string\"}\n"
      ],
      "metadata": {
        "id": "kjX_Dq0TWoi7",
        "cellView": "form"
      },
      "execution_count": null,
      "outputs": []
    },
    {
      "cell_type": "code",
      "source": [
        "#@title フォルダー移動とクローン\n",
        "\n",
        "#@markdown ###クローン実行\n",
        "is_git_clone=True#@param {type:\"boolean\"}\n",
        "if(is_git_clone):\n",
        "  !git clone https://github.com/mustuzakayuto/communication.git\n",
        "  %cd communication"
      ],
      "metadata": {
        "id": "xEY-mlGWWPrb",
        "cellView": "form"
      },
      "execution_count": null,
      "outputs": []
    },
    {
      "cell_type": "code",
      "source": [
        "#@title インストール\n",
        "\n",
        "\n",
        "# %pip install -r requirements.txt\n",
        "%pip install flask==1.1.2\n",
        "%pip install FER==22.5.1\n",
        "%pip install tensorflow==2.12.0\n",
        "%pip install diffusers==0.21.0\n",
        "%pip install googletrans==4.0.0rc1\n",
        "%pip install pytrends==4.9.2\n",
        "%pip install bs4==0.0.1\n",
        "%pip install transformers==4.29.2\n",
        "%pip install torchvision==0.15.2\n",
        "%pip install torchaudio==2.0.2\n",
        "%pip install flask_wtf==1.1.1\n",
        "%pip install email_validator==2.0.0.post2\n",
        "%pip install pyngrok==7.0.0\n",
        "%pip install jinja2==2.11.2\n",
        "%pip install Markupsafe==2.0.1\n",
        "%pip install itsdangerous==1.1.0\n",
        "%pip install Werkzeug==2.0.2\n",
        "%pip install accelerate==0.19.0\n",
        "%pip install torch==1.13.1+cu117 torchvision==0.14.1+cu117 torchtext==0.14.1 torchaudio==0.13.1 torchdata==0.5.1 -f https://download.pytorch.org/whl/torch_stable.html"
      ],
      "metadata": {
        "cellView": "form",
        "id": "WNF-cL5kWUoM"
      },
      "execution_count": null,
      "outputs": []
    },
    {
      "cell_type": "code",
      "source": [
        "#@title データベース初期化\n",
        "is_create_date_base=False#@param {type:\"boolean\"}\n",
        "if(is_create_date_base):\n",
        "  !python3 create_data_base.py"
      ],
      "metadata": {
        "cellView": "form",
        "id": "9GY-x0qyWW27"
      },
      "execution_count": null,
      "outputs": []
    },
    {
      "cell_type": "code",
      "source": [
        "#@title プログラム起動\n",
        "\n",
        "\n",
        "!python3 app2.py $port  $access_token $hostname"
      ],
      "metadata": {
        "cellView": "form",
        "id": "wzzp_wbYWZE8"
      },
      "execution_count": null,
      "outputs": []
    }
  ]
}